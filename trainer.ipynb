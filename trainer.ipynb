{
 "cells": [
  {
   "cell_type": "code",
   "execution_count": null,
   "metadata": {},
   "outputs": [],
   "source": [
    "from torch import cuda\n",
    "import pytorch_lightning as pl\n",
    "from pytorch_lightning.callbacks import ModelCheckpoint\n",
    "import wandb\n",
    "from pytorch_lightning.loggers import WandbLogger\n",
    "from models.resnet9 import ResNet9\n",
    "from classifier import classifier\n",
    "from pl_bolts.datamodules import CIFAR10DataModule\n"
   ]
  },
  {
   "cell_type": "code",
   "execution_count": null,
   "metadata": {},
   "outputs": [],
   "source": [
    "net=ResNet9(3,10)\n",
    "teacher_net=ResNet9(3,10)\n",
    "wandb.login(key='bccba7e310a012fecaf8352d16b4c8829e513214')\n",
    "model_name=f'resnet9'\n",
    "wandb_logger = WandbLogger(project=\"mnist\",name=model_name, log_model=\"all\")\n",
    "save_best_cb= ModelCheckpoint(\n",
    "    monitor='val_acc',\n",
    "    filename='{epoch:03d}-{val_acc:.4f}',\n",
    "    save_last=True,\n",
    "    mode='max',\n",
    ")\n",
    "trainer=pl.Trainer(\n",
    "    accelerator='auto',\n",
    "    gpus=1 if cuda.is_available() else 0,\n",
    "    max_epochs=100,\n",
    "    logger=wandb_logger,\n",
    "    # callbacks=[save_best_cb],\n",
    ")\n",
    "\n",
    "teacher=classifier(teacher_net)\n",
    "teacher.load_from_checkpoint('./best_models/epoch=096-val_acc=0.8275.ckpt')\n",
    "student=classifier(net,teacher=teacher)\n",
    "cifar10=CIFAR10DataModule()\n",
    "trainer.fit(student,datamodule=cifar10)\n",
    "\n",
    "\n",
    "        "
   ]
  },
  {
   "cell_type": "code",
   "execution_count": 3,
   "metadata": {},
   "outputs": [
    {
     "data": {
      "text/plain": [
       "tensor(2)"
      ]
     },
     "execution_count": 3,
     "metadata": {},
     "output_type": "execute_result"
    }
   ],
   "source": [
    "import torch\n",
    "a=torch.tensor([1,2,3])\n",
    "a.argmax()"
   ]
  },
  {
   "cell_type": "code",
   "execution_count": null,
   "metadata": {},
   "outputs": [],
   "source": []
  }
 ],
 "metadata": {
  "kernelspec": {
   "display_name": "Python 3.9.2 64-bit",
   "language": "python",
   "name": "python3"
  },
  "language_info": {
   "codemirror_mode": {
    "name": "ipython",
    "version": 3
   },
   "file_extension": ".py",
   "mimetype": "text/x-python",
   "name": "python",
   "nbconvert_exporter": "python",
   "pygments_lexer": "ipython3",
   "version": "3.9.2"
  },
  "orig_nbformat": 4,
  "vscode": {
   "interpreter": {
    "hash": "aee8b7b246df8f9039afb4144a1f6fd8d2ca17a180786b69acc140d282b71a49"
   }
  }
 },
 "nbformat": 4,
 "nbformat_minor": 2
}
