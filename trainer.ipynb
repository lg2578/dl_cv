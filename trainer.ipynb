{
 "cells": [
  {
   "cell_type": "code",
   "execution_count": null,
   "metadata": {},
   "outputs": [],
   "source": [
    "from torch import optim,cuda\n",
    "from torchvision import models,transforms\n",
    "import torch.nn as nn\n",
    "import pytorch_lightning as pl\n",
    "from torchmetrics import Accuracy\n",
    "from pytorch_lightning.callbacks import ModelCheckpoint\n",
    "\n",
    "import wandb\n",
    "from pytorch_lightning.loggers import WandbLogger\n",
    "from models.resnet9 import ResNet9\n",
    "from classifier import classifier\n",
    "from pl_bolts.datamodules import CIFAR10DataModule,MNISTDataModule\n"
   ]
  },
  {
   "cell_type": "code",
   "execution_count": null,
   "metadata": {},
   "outputs": [],
   "source": [
    "net=ResNet9(3,10)\n",
    "wandb.login(key='bccba7e310a012fecaf8352d16b4c8829e513214')\n",
    "model_name=f'resnet9'\n",
    "wandb_logger = WandbLogger(project=\"mnist\",name=model_name, log_model=\"all\")\n",
    "save_best_cb= ModelCheckpoint(\n",
    "    monitor='val_acc',\n",
    "    filename='{epoch:03d}-{val_acc:.4f}',\n",
    "    save_last=True,\n",
    "    mode='max',\n",
    ")\n",
    "trainer=pl.Trainer(\n",
    "    accelerator='auto',\n",
    "    gpus=1 if cuda.is_available() else 0,\n",
    "    max_epochs=100,\n",
    "    logger=wandb_logger,\n",
    "    # callbacks=[save_best_cb],\n",
    ")\n",
    "model=classifier(net)\n",
    "mnist=MNISTDataModule()\n",
    "trainer.fit(model,datamodule=mnist)\n",
    "\n",
    "\n",
    "        "
   ]
  }
 ],
 "metadata": {
  "language_info": {
   "name": "python"
  },
  "orig_nbformat": 4
 },
 "nbformat": 4,
 "nbformat_minor": 2
}
